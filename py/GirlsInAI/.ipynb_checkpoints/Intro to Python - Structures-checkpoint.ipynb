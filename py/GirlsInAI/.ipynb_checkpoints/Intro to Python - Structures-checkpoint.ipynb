{
 "cells": [
  {
   "cell_type": "code",
   "execution_count": null,
   "metadata": {},
   "outputs": [],
   "source": [
    "print(\"Day 10   9:03PM 05/25/19 <If>\")\n",
    "score = 92\n",
    "print('Your letter grade is:')\n",
    "if score > 90:\n",
    "    if score > 93:\n",
    "        print('A')\n",
    "    else:\n",
    "        print('A-')\n",
    "elif score > 75:\n",
    "    if score > 85:\n",
    "        print('B+')\n",
    "    elif score > 80:\n",
    "        print('B')\n",
    "    else:\n",
    "        print('B-')\n",
    "else:\n",
    "    print('YOU ARE DOOMED')"
   ]
  },
  {
   "cell_type": "code",
   "execution_count": null,
   "metadata": {},
   "outputs": [],
   "source": [
    "print(\"Day 11   9:10PM 05/25/19 <While/Break/Continue>\")\n",
    "\n",
    "while True:\n",
    "    score = int(input())\n",
    "    if score > 100:\n",
    "        break\n",
    "    if score < 0:\n",
    "        continue\n",
    "    print('Your letter grade is:')\n",
    "    if score > 90:\n",
    "        if score > 93:\n",
    "            print('A')\n",
    "        else:\n",
    "            print('A-')\n",
    "    elif score > 75:\n",
    "        if score > 85:\n",
    "            print('B+')\n",
    "        elif score > 80:\n",
    "            print('B')\n",
    "        else:\n",
    "            print('B-')\n",
    "    else:\n",
    "        print('YOU ARE DOOMED')\n",
    "\n",
    "sum = 0\n",
    "ctr = 0\n",
    "while True:\n",
    "    user_input = input()\n",
    "    if user_input==\"stop\":\n",
    "        break\n",
    "    if float(user_input) < 0:\n",
    "        continue\n",
    "    sum = sum + float(user_input)\n",
    "    ctr += 1\n",
    "print('the sum of these %d'%ctr+' numbers are %f'%sum)"
   ]
  },
  {
   "cell_type": "code",
   "execution_count": null,
   "metadata": {
    "scrolled": true
   },
   "outputs": [],
   "source": [
    "print(\"Day 12   9:26PM 05/25/19 <For>\")\n",
    "sum = 0\n",
    "for i in range(1,20):\n",
    "    sum = i + sum   \n",
    "    if i%2 == 0: \n",
    "        print(i) \n",
    "print(sum)\n",
    "\n",
    "#hw\n",
    "suspects = ['a','b','c','d']\n",
    "for thief in suspects:\n",
    "    sum = (thief!='a')+(thief=='c')+(thief=='d')+(thief!='d')\n",
    "    if sum >= 3:\n",
    "        print('the thief is %s'%thief)"
   ]
  },
  {
   "cell_type": "code",
   "execution_count": null,
   "metadata": {},
   "outputs": [],
   "source": [
    "print(\"Day 13   9:26PM 05/25/19 <Try/Except>\")\n",
    "# hw\n",
    "sum = 0\n",
    "ctr = 0\n",
    "while True:\n",
    "    try:\n",
    "        user_input = input()\n",
    "        if user_input == 'i wanna stop':\n",
    "            break\n",
    "        sum = sum + int(user_input)\n",
    "        ctr += 1\n",
    "    except:\n",
    "        print(\"Please enter a number or \\'i wanna stop\\'\")\n",
    "print('the sum of these %d'%ctr+' numbers are %d'%sum)"
   ]
  },
  {
   "cell_type": "code",
   "execution_count": 6,
   "metadata": {},
   "outputs": [
    {
     "name": "stdout",
     "output_type": "stream",
     "text": [
      "Day 13   9:52PM 05/25/19 <Function>\n",
      "4\n",
      "4\n",
      "1.23\n",
      "[0, 1, 2, 3, 4]\n"
     ]
    },
    {
     "data": {
      "text/plain": [
       "'B+'"
      ]
     },
     "execution_count": 6,
     "metadata": {},
     "output_type": "execute_result"
    }
   ],
   "source": [
    "print(\"Day 14   9:52PM 05/25/19 <Function>\")\n",
    "print(max(1,2,3,4))\n",
    "print(max([1,2,3,4]))  # max() 里面可以是一串数字，也可以是一个list\n",
    "print(abs(-1.23))\n",
    "print(list(range(5)))\n",
    "def toLetterGrade(partialscores):\n",
    "    score = 0\n",
    "    for i in partialscores:\n",
    "        score += i\n",
    "    if score > 90:\n",
    "        if score > 93:\n",
    "            return 'A'\n",
    "        else:\n",
    "            return 'A-'\n",
    "    elif score > 75:\n",
    "        if score > 85:\n",
    "            return 'B+'\n",
    "        elif score > 80:\n",
    "            return 'B'\n",
    "        else:\n",
    "            return 'B-'\n",
    "    else:\n",
    "        return 'YOU ARE DOOMED'\n",
    "    \n",
    "toLetterGrade([23,56,11])\n"
   ]
  },
  {
   "cell_type": "code",
   "execution_count": 17,
   "metadata": {},
   "outputs": [
    {
     "name": "stdout",
     "output_type": "stream",
     "text": [
      "Day 15  10:03PM 05/25/19 <Read/Write>\n",
      "<_io.TextIOWrapper name='test.txt' mode='r' encoding='cp1252'>\n",
      "recharged.\n",
      "\n",
      "['Goal: finish Intro by 11:00\\n', '      latest 11:30']\n"
     ]
    }
   ],
   "source": [
    "print(\"Day 15  10:03PM 05/25/19 <I/O>\")\n",
    "import os\n",
    "os.chdir('C:/Users/ashle/GirlsInAI')\n",
    "f = open('test.txt')\n",
    "print(f)\n",
    "#print(f.read())\n",
    "# one cannot read backwards or repeatedly\n",
    "print(f.readline())\n",
    "print(f.readlines())\n",
    "f.close()\n",
    "f = open('test.txt','w')\n",
    "f.write('Game Changer')\n",
    "f.close()"
   ]
  },
  {
   "cell_type": "code",
   "execution_count": 19,
   "metadata": {},
   "outputs": [
    {
     "name": "stdout",
     "output_type": "stream",
     "text": [
      "Day 16  10:40PM 05/25/19 <Packages>\n"
     ]
    }
   ],
   "source": [
    "print(\"Day 16  10:35PM 05/25/19 <Packages>\")"
   ]
  },
  {
   "cell_type": "code",
   "execution_count": 41,
   "metadata": {},
   "outputs": [
    {
     "name": "stdout",
     "output_type": "stream",
     "text": [
      "Day 17  10:40PM 05/25/19 <Dataframe>\n",
      "   aaa  bbb  ccc\n",
      "0    1    4    7\n",
      "1    2    5    8\n",
      "2    3    6    9\n",
      "\n",
      "--- fetch column ---\n",
      "0    4\n",
      "1    5\n",
      "2    6\n",
      "Name: bbb, dtype: int64\n",
      "--- alternative ---\n",
      "0    4\n",
      "1    5\n",
      "2    6\n",
      "Name: bbb, dtype: int64\n",
      "\n",
      "--- fetch first row ---\n",
      "   aaa  bbb  ccc\n",
      "0    1    4    7\n",
      "--- fetch last row ---\n",
      "   aaa  bbb  ccc\n",
      "2    3    6    9\n",
      "\n",
      "--- fetch cell ---\n",
      "5\n",
      "5\n",
      "100\n",
      "   aaa  bbb  ccc\n",
      "0   11   14   17\n",
      "1   12   15   18\n",
      "2   13   16   19\n",
      "\n",
      "--- concat ---\n",
      "   aaa  bbb  ccc\n",
      "0    1    4    7\n",
      "1    2  100    8\n",
      "2    3    6    9\n",
      "0   11   14   17\n",
      "1   12   15   18\n",
      "2   13   16   19\n",
      "\n",
      "--- merge ---\n",
      "   aaa  bbb  ccc  ddd\n",
      "0    1    4    7   14\n",
      "1    3    6    9   16\n"
     ]
    }
   ],
   "source": [
    "print(\"Day 17  10:40PM 05/25/19 <Dataframe>\")\n",
    "# dataframe, often written as df, is like sheet in excel\n",
    "# empowered by pandas\n",
    "\n",
    "import pandas as pd\n",
    "df = pd.DataFrame({'aaa':[1,2,3],'bbb':[4,5,6],'ccc':[7,8,9]})\n",
    "print(df)\n",
    "\n",
    "print('\\n--- fetch column ---')\n",
    "col2 = df['bbb']\n",
    "print(col2)\n",
    "print('--- alternative ---')\n",
    "col2 = df.bbb\n",
    "print(col2)\n",
    "\n",
    "print('\\n--- fetch first row ---')\n",
    "row2 = df[:1]\n",
    "print(row2)\n",
    "print('--- fetch last row ---')\n",
    "row3 = df[-1:]\n",
    "print(row3)\n",
    "\n",
    "print('\\n--- fetch cell ---')\n",
    "obj = df['bbb'][1]\n",
    "print(obj)\n",
    "df['bbb'][1] = 100\n",
    "print(obj)\n",
    "obj = df['bbb'][1]\n",
    "print(obj)\n",
    "\n",
    "df2 = pd.DataFrame({'aaa':[11,12,13],'bbb':[14,15,16],'ccc':[17,18,19]})\n",
    "print(df2)\n",
    "print('\\n--- concat ---')\n",
    "df_con = pd.concat([df,df2])\n",
    "print(df_con)\n",
    "df3 = pd.DataFrame({'aaa':[1,2,3],'bbb':[4,5,6],'ddd':[14,15,16]})\n",
    "print('\\n--- merge ---')\n",
    "df_mer = pd.merge(df,df3)\n",
    "print(df_mer)\n"
   ]
  },
  {
   "cell_type": "code",
   "execution_count": 54,
   "metadata": {},
   "outputs": [
    {
     "name": "stdout",
     "output_type": "stream",
     "text": [
      "Day 18  11:08PM 05/25/19 <xlsx/csv>\n",
      "   col1  col2  col3\n",
      "0     1     4     7\n",
      "1     2     5     8\n",
      "2     3     6     9\n",
      "3     4     7    10\n",
      "C:\\Users\\ashle\\GirlsInAI\n",
      "   col1  col2  col3\n",
      "0     1     4     7\n",
      "1     2     5     8\n",
      "2     3     6     9\n",
      "3     4     7    10\n",
      "   col1  col2  col3  col4\n",
      "0     1     4     7     1\n",
      "1     2     5     8     1\n",
      "2     3     6     9     1\n",
      "3   100     7    10     1\n",
      "\n",
      "--- csv ---\n",
      "   Unnamed: 0  col1  col2  col3  col4\n",
      "0           0     1     4     7     1\n",
      "1           1     2     5     8     1\n",
      "2           2     3     6     9     1\n",
      "3           3   100     7    10     1\n",
      "   col1  col2  col3  col4\n",
      "0     1     4     7     1\n",
      "1     2     5     8     1\n",
      "2     3     6     9     1\n",
      "3   100     7    10     1\n"
     ]
    }
   ],
   "source": [
    "print(\"Day 18  11:08PM 05/25/19 <xlsx/csv>\")\n",
    "import os\n",
    "import pandas as pd\n",
    "df = pd.DataFrame({'col1':[1,2,3,4], 'col2':[4,5,6,7], 'col3':[7,8,9,10]})\n",
    "print(df)\n",
    "path = os.getcwd()\n",
    "print(path)\n",
    "df.to_excel('df_test.xlsx')\n",
    "df2 = pd.read_excel('df_test.xlsx')\n",
    "print(df2)\n",
    "df2['col4'] = 1\n",
    "df2['col1'][3] = 100\n",
    "print(df2)\n",
    "df2.to_excel('df_test.xlsx')\n",
    "print('\\n--- csv ---')\n",
    "df2.to_csv('df_test2.csv')\n",
    "df3 = pd.read_csv('df_test2.csv')\n",
    "print(df3)\n",
    "list(df3)\n",
    "df3 = df3.drop('Unnamed: 0',1)\n",
    "print(df3)"
   ]
  },
  {
   "cell_type": "code",
   "execution_count": 60,
   "metadata": {},
   "outputs": [
    {
     "name": "stdout",
     "output_type": "stream",
     "text": [
      "Day 19  11:18PM 05/25/19 <OOP>\n",
      "--- real try ---\n"
     ]
    },
    {
     "ename": "TypeError",
     "evalue": "Job() takes no arguments",
     "output_type": "error",
     "traceback": [
      "\u001b[1;31m---------------------------------------------------------------------------\u001b[0m",
      "\u001b[1;31mTypeError\u001b[0m                                 Traceback (most recent call last)",
      "\u001b[1;32m<ipython-input-60-6788fe06a00a>\u001b[0m in \u001b[0;36m<module>\u001b[1;34m\u001b[0m\n\u001b[0;32m     17\u001b[0m \u001b[1;33m\u001b[0m\u001b[0m\n\u001b[0;32m     18\u001b[0m \u001b[0mprint\u001b[0m\u001b[1;33m(\u001b[0m\u001b[1;34m'--- real try ---'\u001b[0m\u001b[1;33m)\u001b[0m\u001b[1;33m\u001b[0m\u001b[1;33m\u001b[0m\u001b[0m\n\u001b[1;32m---> 19\u001b[1;33m \u001b[0mmT\u001b[0m \u001b[1;33m=\u001b[0m \u001b[0mJob\u001b[0m\u001b[1;33m(\u001b[0m\u001b[1;34m'MeiTuan'\u001b[0m\u001b[1;33m,\u001b[0m\u001b[1;34m'Market Analyst'\u001b[0m\u001b[1;33m)\u001b[0m\u001b[1;33m\u001b[0m\u001b[1;33m\u001b[0m\u001b[0m\n\u001b[0m\u001b[0;32m     20\u001b[0m \u001b[1;32mif\u001b[0m \u001b[0mmT\u001b[0m\u001b[1;33m.\u001b[0m\u001b[0mmatch\u001b[0m\u001b[1;33m(\u001b[0m\u001b[1;33m)\u001b[0m\u001b[1;33m:\u001b[0m\u001b[1;33m\u001b[0m\u001b[1;33m\u001b[0m\u001b[0m\n\u001b[0;32m     21\u001b[0m     \u001b[0mmT\u001b[0m\u001b[1;33m.\u001b[0m\u001b[0mapply\u001b[0m\u001b[1;33m(\u001b[0m\u001b[1;33m)\u001b[0m\u001b[1;33m\u001b[0m\u001b[1;33m\u001b[0m\u001b[0m\n",
      "\u001b[1;31mTypeError\u001b[0m: Job() takes no arguments"
     ]
    }
   ],
   "source": [
    "print(\"Day 19  11:18PM 05/25/19 <OOP>\")\n",
    "class Job(object):  #inherit from object class\n",
    "    def _init_(self,company,title):\n",
    "        print('start initialization')\n",
    "        self.company = company\n",
    "        self.title = title\n",
    "        self.isApplied = False\n",
    "    def apply(self,isApplied):\n",
    "        self.isApplied = True\n",
    "    def match(self):\n",
    "        if 'Analyst' in self.title:\n",
    "            print(\"Match!\")\n",
    "            return True\n",
    "        else:\n",
    "            print('Do not apply')\n",
    "            return False\n",
    "\n",
    "print('--- real try ---')\n",
    "mT = Job('MeiTuan','Market Analyst')\n",
    "if mT.match():\n",
    "    mT.apply()"
   ]
  },
  {
   "cell_type": "code",
   "execution_count": null,
   "metadata": {},
   "outputs": [],
   "source": []
  }
 ],
 "metadata": {
  "kernelspec": {
   "display_name": "Python 3",
   "language": "python",
   "name": "python3"
  },
  "language_info": {
   "codemirror_mode": {
    "name": "ipython",
    "version": 3
   },
   "file_extension": ".py",
   "mimetype": "text/x-python",
   "name": "python",
   "nbconvert_exporter": "python",
   "pygments_lexer": "ipython3",
   "version": "3.7.1"
  }
 },
 "nbformat": 4,
 "nbformat_minor": 2
}
