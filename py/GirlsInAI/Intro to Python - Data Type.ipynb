{
 "cells": [
  {
   "cell_type": "code",
   "execution_count": 2,
   "metadata": {
    "scrolled": true
   },
   "outputs": [
    {
     "name": "stdout",
     "output_type": "stream",
     "text": [
      "Day 01   7:36PM 05/25/19\n"
     ]
    }
   ],
   "source": [
    "print(\"Day 01   7:36PM 05/25/19\")"
   ]
  },
  {
   "cell_type": "code",
   "execution_count": 35,
   "metadata": {},
   "outputs": [
    {
     "name": "stdout",
     "output_type": "stream",
     "text": [
      "Day 03   7:44PM 05/25/19 <Data Type>\n",
      "103.4\n",
      "How it work\n",
      "I'm an escape tester\n",
      "I'm a GIAer.\n",
      "I'm learning machine learning by 'python'.\n",
      "False\n"
     ]
    }
   ],
   "source": [
    "print(\"Day 03   7:44PM 05/25/19 <Data Type>\")\n",
    "print(100+3.4)\n",
    "print(\"How\"+\" it\"+' work')\n",
    "print('I\\'m an escape tester')\n",
    "print('I\\'m a GIAer.\\nI\\'m learning machine learning by \\'python\\'.')\n",
    "print(True and False)"
   ]
  },
  {
   "cell_type": "code",
   "execution_count": 22,
   "metadata": {},
   "outputs": [
    {
     "name": "stdout",
     "output_type": "stream",
     "text": [
      "Day 04   7:50PM 05/25/19 <Variable>\n",
      "hope i can get faster\n",
      "2020\n"
     ]
    }
   ],
   "source": [
    "print(\"Day 04   7:50PM 05/25/19 <Variable>\")\n",
    "message = 'hope i can get faster'\n",
    "print(message)\n",
    "num = 2019\n",
    "newNum = num+1\n",
    "print(newNum)"
   ]
  },
  {
   "cell_type": "code",
   "execution_count": 25,
   "metadata": {},
   "outputs": [
    {
     "name": "stdout",
     "output_type": "stream",
     "text": [
      "Day 05   7:56PM 05/25/19 <Bool>\n",
      "True\n",
      "True\n"
     ]
    }
   ],
   "source": [
    "print(\"Day 05   7:56PM 05/25/19 <Bool>\")\n",
    "print(5==5)\n",
    "x=2019\n",
    "print(not (x>2020))"
   ]
  },
  {
   "cell_type": "code",
   "execution_count": 48,
   "metadata": {},
   "outputs": [
    {
     "name": "stdout",
     "output_type": "stream",
     "text": [
      "Day 06   7:58PM 05/25/19 <String>\n",
      "i\n",
      "8\n",
      "qingyang equals to qingyang\n",
      "False\n",
      "QINGYANG\n",
      "3\n",
      "False\n",
      "['qingyang', 'zhang']\n",
      "['qingyang', 'ashley*zhang']\n",
      "Qingyang Zhang\n",
      "Qingyang Zhang is 20 years old\n"
     ]
    }
   ],
   "source": [
    "print(\"Day 06   7:58PM 05/25/19 <String>\")\n",
    "name = 'qingyang'\n",
    "print(name[1])\n",
    "print(len(name))\n",
    "print(name[:4]+name[4:]+\" equals to \"+name[:])\n",
    "test = 'qy'\n",
    "print(test in name)\n",
    "print(name.upper())\n",
    "print(name.find('g'))\n",
    "print(name.startswith('z'))\n",
    "name = \"qingyang zhang\"\n",
    "print(name.split())\n",
    "name = \"qingyang*ashley*zhang\"\n",
    "print(name.split('*',1))\n",
    "name_list = ('Qingyang',\"Zhang\")\n",
    "name_str = \" \".join(name_list)\n",
    "print(name_str)\n",
    "age = 20\n",
    "print('%s' %name_str + ' is %d years old'  %age)"
   ]
  },
  {
   "cell_type": "code",
   "execution_count": 3,
   "metadata": {},
   "outputs": [
    {
     "name": "stdout",
     "output_type": "stream",
     "text": [
      "Day 07   8:15PM 05/25/19 <Type Trans>\n",
      "1.75\n",
      "1\n",
      "2\n",
      "5\n",
      "2.0\n",
      "2.0\n",
      "3.5\n",
      "3.14159\n",
      "4.5\n",
      "True\n",
      "5\n",
      "True\n",
      "False\n",
      "True\n",
      "False\n",
      "False\n",
      "True\n",
      "<class 'bool'>\n",
      "<class 'str'>\n",
      "True\n"
     ]
    }
   ],
   "source": [
    "print(\"Day 07   8:15PM 05/25/19 <Type Trans>\")\n",
    "print(3.5/2)\n",
    "print(int(3.5/2))\n",
    "print(round(3.5/2))\n",
    "print(int('5'))\n",
    "print(4/2)\n",
    "print(float(4/2))\n",
    "print(float('3.5'))\n",
    "print(round(3.141592,5))\n",
    "print(str(4.5))\n",
    "print(str(True))\n",
    "print(str(5))\n",
    "print(bool(10))              # 任何非零数字判断为 True\n",
    "print(bool(0))               # 数字零判断为 False\n",
    "print(bool(3.9))             # 非零数字判断为 True\n",
    "print(bool(''))              # 空字符串判断为 False\n",
    "print(bool(None))            # None 空值判断为 False\n",
    "print(bool('Girls-In-AI'))   # 任何非空字符串判断为 True\n",
    "a = False\n",
    "print(type(a))\n",
    "a = str(False)\n",
    "print(type(a))\n",
    "print(bool(a))"
   ]
  },
  {
   "cell_type": "code",
   "execution_count": 21,
   "metadata": {},
   "outputs": [
    {
     "name": "stdout",
     "output_type": "stream",
     "text": [
      "Day 08   8:41PM 05/25/19 <List>\n",
      "[0, 1, 2, 3, 4, 5, 6, 7, 8, 9]\n",
      "[1, 2, 3, 4, 5, 6, 7, 8, 9]\n",
      "['Q', 'i', 'n', 'g', 'y', 'a', 'n', 'g', ' ', 'Z', 'h', 'a', 'n', 'g']\n",
      "['Ashley', 98, True]\n",
      "test has 3 elements, the second of which is 98\n",
      "the first two elements are ['Ashley', 98]\n",
      "the last is True\n",
      "['Qingyang', 98, True]\n",
      "['Qingyang', 98, True, 'ANXIETY']\n",
      "['Qingyang', 98, True, 'in', 'ANXIETY']\n",
      "['Qingyang', 98, True, 'in']\n",
      "['Qingyang', 98, 'in']\n"
     ]
    }
   ],
   "source": [
    "print(\"Day 08   8:41PM 05/25/19 <List>\")\n",
    "print(list(range(10)))       #python uses index 0 \n",
    "print(list(range(1,10)))\n",
    "print(list('Qingyang Zhang')) \n",
    "print(['Ashley',98,True])    #list can be mixed type\n",
    "test = ['Ashley',98,True]    #list is ordered\n",
    "print(\"test has %d\"%len(test)+\" elements, the second of which is %d\"%test[1])    \n",
    "print(\"the first two elements are\",test[:2])\n",
    "print(\"the last is\",test[-1])\n",
    "test[0] = 'Qingyang'\n",
    "print(test)\n",
    "test.append('ANXIETY')\n",
    "print(test)\n",
    "test.insert(3,\"in\")\n",
    "print(test)\n",
    "test.pop()\n",
    "print(test)\n",
    "test.pop(2)\n",
    "print(test)"
   ]
  },
  {
   "cell_type": "code",
   "execution_count": 27,
   "metadata": {},
   "outputs": [
    {
     "name": "stdout",
     "output_type": "stream",
     "text": [
      "Day 09   8:53PM 05/25/19 <Dict>\n",
      "3.8\n",
      "False\n",
      "{'SM': 'A', 'RM': 100, 'LA': 95, 'OS': 94, 'BA': 89}\n",
      "{'SM': 'A', 'RM': 100, 'LA': 95, 'OS': 94}\n"
     ]
    }
   ],
   "source": [
    "print(\"Day 09   8:53PM 05/25/19 <Dict>\")\n",
    "# dictionary in Python is map in java\n",
    "# dict = {key1:value1, key2:value2,..}\n",
    "# each key is unique, unordered\n",
    "finals = {'SM':3.8,'RM':100, 'LA':94, 'OS':94}\n",
    "print(finals['SM'])\n",
    "finals['LA'] = 95    # dict is mutable\n",
    "finals['SM'] = 'A'   # dict accepts mixed-type\n",
    "print('BA' in finals)\n",
    "finals['BA'] = 89\n",
    "print(finals)\n",
    "finals.pop('BA')\n",
    "print(finals)"
   ]
  }
 ],
 "metadata": {
  "kernelspec": {
   "display_name": "Python 3",
   "language": "python",
   "name": "python3"
  },
  "language_info": {
   "codemirror_mode": {
    "name": "ipython",
    "version": 3
   },
   "file_extension": ".py",
   "mimetype": "text/x-python",
   "name": "python",
   "nbconvert_exporter": "python",
   "pygments_lexer": "ipython3",
   "version": "3.7.1"
  }
 },
 "nbformat": 4,
 "nbformat_minor": 2
}
